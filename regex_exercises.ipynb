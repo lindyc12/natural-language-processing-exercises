{
 "cells": [
  {
   "cell_type": "code",
   "execution_count": 1,
   "id": "4aa97341",
   "metadata": {},
   "outputs": [],
   "source": [
    "import re\n",
    "import pandas as pd\n",
    "import datetime "
   ]
  },
  {
   "cell_type": "markdown",
   "id": "17deb5ae",
   "metadata": {},
   "source": [
    "1. Write a function named is_vowel"
   ]
  },
  {
   "cell_type": "code",
   "execution_count": null,
   "id": "ba453d7d",
   "metadata": {},
   "outputs": [],
   "source": [
    "def is_vowel(string):\n",
    "    if re.findall(r\"\\b[aeiou]\\w*\\b\", string, re.I):\n",
    "        return True\n",
    "    else:\n",
    "        return False "
   ]
  },
  {
   "cell_type": "code",
   "execution_count": null,
   "id": "6f9f4cd6",
   "metadata": {},
   "outputs": [],
   "source": [
    "is_vowel('Apple')"
   ]
  },
  {
   "cell_type": "markdown",
   "id": "865776c0",
   "metadata": {},
   "source": [
    "2. Write a function named is_valid_username"
   ]
  },
  {
   "cell_type": "code",
   "execution_count": null,
   "id": "f917cfcd",
   "metadata": {},
   "outputs": [],
   "source": [
    "def is_valid_username(string):\n",
    "    if re.match(r\"^[a-z][a-z0-9_]{,31}$\", string):\n",
    "        return True\n",
    "    else:\n",
    "        return False"
   ]
  },
  {
   "cell_type": "code",
   "execution_count": null,
   "id": "6f17b352",
   "metadata": {},
   "outputs": [],
   "source": [
    "is_valid_username('Aaaaaaa')"
   ]
  },
  {
   "cell_type": "code",
   "execution_count": null,
   "id": "42a9a568",
   "metadata": {},
   "outputs": [],
   "source": [
    "is_valid_username('codeup')"
   ]
  },
  {
   "cell_type": "markdown",
   "id": "7fa71462",
   "metadata": {},
   "source": [
    "3. Write a regular expression to capture phone numbers."
   ]
  },
  {
   "cell_type": "code",
   "execution_count": 4,
   "id": "e23cb938",
   "metadata": {},
   "outputs": [],
   "source": [
    "phone_cap = r\"^.\\d+([\\s\\.\\)-]+\\d+)+s\""
   ]
  },
  {
   "cell_type": "code",
   "execution_count": 6,
   "id": "675a1673",
   "metadata": {},
   "outputs": [],
   "source": [
    "re.search(phone_cap, '210-867-5309')"
   ]
  },
  {
   "cell_type": "markdown",
   "id": "7defae8d",
   "metadata": {},
   "source": [
    "4. Use regular expressions to convert the dates below to the standardized year-month-day format."
   ]
  },
  {
   "cell_type": "code",
   "execution_count": 9,
   "id": "a8f8ecef",
   "metadata": {},
   "outputs": [
    {
     "data": {
      "text/plain": [
       "'19/02/05'"
      ]
     },
     "execution_count": 9,
     "metadata": {},
     "output_type": "execute_result"
    }
   ],
   "source": [
    "\n",
    "re.sub(r\"(\\d{2})/(\\d{2})/(\\d{2})\", r\"\\3/\\1/\\2\", \"02/05/19\")"
   ]
  },
  {
   "cell_type": "markdown",
   "id": "1c7ef408",
   "metadata": {},
   "source": [
    "5. Write a regex to extract the various parts of these logfile lines:"
   ]
  },
  {
   "cell_type": "code",
   "execution_count": 11,
   "id": "c9a3be95",
   "metadata": {},
   "outputs": [],
   "source": [
    "# first log \n",
    "log1 = 'GET /api/v1/sales?page=86 [16/Apr/2019:193452+0000] HTTP/1.1 {200} 510348 \"python-requests/2.21.0\" 97.105.19.58'"
   ]
  },
  {
   "cell_type": "code",
   "execution_count": 13,
   "id": "a0eaf517",
   "metadata": {},
   "outputs": [
    {
     "data": {
      "text/plain": [
       "{'action': 'GET',\n",
       " 'url': '/api/v1/sales?page=86',\n",
       " 'date': '16/Apr/2019:193452+0000',\n",
       " 'request_type': 'HTTP/1.1',\n",
       " 'response': '200',\n",
       " 'file_size': '510348',\n",
       " 'user_agent': 'python-requests/2.21.0',\n",
       " 'ip_address': '97.105.19.58'}"
      ]
     },
     "execution_count": 13,
     "metadata": {},
     "output_type": "execute_result"
    }
   ],
   "source": [
    "match1 = re.search(r'(?P<action>\\w+)\\s(?P<url>[a-z0-9\\/\\?\\=\\_\\-]+)\\s\\[(?P<date>[\\w\\/\\:\\+]+)\\]\\s(?P<request_type>[\\w\\/\\.]+)\\s\\{(?P<response>\\d+)\\}\\s(?P<file_size>\\d+)\\s\\\"(?P<user_agent>.+)\\\"\\s(?P<ip_address>[\\d\\.]+)', log1)\n",
    "match1.groupdict()"
   ]
  },
  {
   "cell_type": "code",
   "execution_count": 14,
   "id": "589fbd23",
   "metadata": {},
   "outputs": [],
   "source": [
    "log_regex = r'(?P<action>\\w+)\\s(?P<url>[a-z0-9\\/\\?\\=\\_\\-]+)\\s\\[(?P<date>[\\w\\/\\:\\+]+)\\]\\s(?P<request_type>[\\w\\/\\.]+)\\s\\{(?P<response>\\d+)\\}\\s(?P<file_size>\\d+)\\s\\\"(?P<user_agent>.+)\\\"\\s(?P<ip_address>[\\d\\.]+)'\n"
   ]
  },
  {
   "cell_type": "code",
   "execution_count": 15,
   "id": "b35d9a2c",
   "metadata": {},
   "outputs": [
    {
     "data": {
      "text/plain": [
       "{'action': 'POST',\n",
       " 'url': '/users_accounts/file-upload',\n",
       " 'date': '16/Apr/2019:193452+0000',\n",
       " 'request_type': 'HTTP/1.1',\n",
       " 'response': '201',\n",
       " 'file_size': '42',\n",
       " 'user_agent': 'User-Agent: Mozilla/5.0 (X11; Fedora; Fedora; Linux x86_64) AppleWebKit/537.36 (KHTML, like Gecko) Chrome/73.0.3683.86 Safari/537.36',\n",
       " 'ip_address': '97.105.19.58'}"
      ]
     },
     "execution_count": 15,
     "metadata": {},
     "output_type": "execute_result"
    }
   ],
   "source": [
    "log2 = 'POST /users_accounts/file-upload [16/Apr/2019:193452+0000] HTTP/1.1 {201} 42 \"User-Agent: Mozilla/5.0 (X11; Fedora; Fedora; Linux x86_64) AppleWebKit/537.36 (KHTML, like Gecko) Chrome/73.0.3683.86 Safari/537.36\" 97.105.19.58'\n",
    "\n",
    "# use on log2\n",
    "match2 = re.search(log_regex, log2)\n",
    "\n",
    "match2.groupdict()"
   ]
  },
  {
   "cell_type": "code",
   "execution_count": null,
   "id": "9730add7",
   "metadata": {},
   "outputs": [],
   "source": []
  }
 ],
 "metadata": {
  "kernelspec": {
   "display_name": "Python 3 (ipykernel)",
   "language": "python",
   "name": "python3"
  },
  "language_info": {
   "codemirror_mode": {
    "name": "ipython",
    "version": 3
   },
   "file_extension": ".py",
   "mimetype": "text/x-python",
   "name": "python",
   "nbconvert_exporter": "python",
   "pygments_lexer": "ipython3",
   "version": "3.9.12"
  }
 },
 "nbformat": 4,
 "nbformat_minor": 5
}
