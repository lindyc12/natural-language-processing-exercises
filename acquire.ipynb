{
 "cells": [
  {
   "cell_type": "code",
   "execution_count": 31,
   "id": "d8033d2c",
   "metadata": {},
   "outputs": [],
   "source": [
    "from requests import get\n",
    "import pandas as pd\n",
    "import os\n",
    "def get_soup(url, headers = {'User-Agent': 'Codeup Data Science'}):\n",
    "    from bs4 import BeautifulSoup\n",
    "    response = get(url, headers=headers)\n",
    "    return BeautifulSoup(response.content)"
   ]
  },
  {
   "cell_type": "markdown",
   "id": "482085e4",
   "metadata": {},
   "source": [
    "first blog"
   ]
  },
  {
   "cell_type": "code",
   "execution_count": null,
   "id": "b29e2eff",
   "metadata": {},
   "outputs": [],
   "source": [
    "url1 = 'https://codeup.com/codeup-news/codeup-dallas-campus/'\n",
    "headers1 = {'User-Agent': 'Codeup Data Science'} # Some websites don't accept the pyhon-requests default user-agent\n",
    "response1 = get(url1, headers=headers1)"
   ]
  },
  {
   "cell_type": "code",
   "execution_count": null,
   "id": "2d403a3b",
   "metadata": {},
   "outputs": [],
   "source": [
    "print(response1.text[:400])"
   ]
  },
  {
   "cell_type": "code",
   "execution_count": null,
   "id": "11f42cc3",
   "metadata": {},
   "outputs": [],
   "source": [
    "# Make a soup variable holding the response content\n",
    "soup = BeautifulSoup(response1.content, 'html.parser')"
   ]
  },
  {
   "cell_type": "code",
   "execution_count": null,
   "id": "ae25493d",
   "metadata": {},
   "outputs": [],
   "source": [
    "soup.title.string"
   ]
  },
  {
   "cell_type": "code",
   "execution_count": null,
   "id": "150d2c98",
   "metadata": {},
   "outputs": [],
   "source": [
    "article = soup.find('div', class_ = 'entry-content')\n",
    "article.text"
   ]
  },
  {
   "cell_type": "markdown",
   "id": "356b80a3",
   "metadata": {},
   "source": [
    "second blog"
   ]
  },
  {
   "cell_type": "code",
   "execution_count": null,
   "id": "91d62485",
   "metadata": {},
   "outputs": [],
   "source": [
    "url2 = 'https://codeup.com/data-science/jobs-after-a-coding-bootcamp-part-1-data-science/'\n",
    "headers2 = {'User-Agent': 'Codeup Data Science'} # Some websites don't accept the pyhon-requests default user-agent\n",
    "response2 = get(url2, headers=headers2)\n",
    "print(response2.text[:400])"
   ]
  },
  {
   "cell_type": "code",
   "execution_count": null,
   "id": "aa56b311",
   "metadata": {},
   "outputs": [],
   "source": [
    "# Make a soup variable holding the response content\n",
    "soup2 = BeautifulSoup(response2.content, 'html.parser')\n",
    "soup2.title.string"
   ]
  },
  {
   "cell_type": "code",
   "execution_count": null,
   "id": "ab4c5244",
   "metadata": {},
   "outputs": [],
   "source": [
    "article2 = soup2.find('div', class_ = 'entry-content')\n",
    "article2.text"
   ]
  },
  {
   "cell_type": "markdown",
   "id": "d79a8dc9",
   "metadata": {},
   "source": [
    "third blog"
   ]
  },
  {
   "cell_type": "code",
   "execution_count": null,
   "id": "2ea84788",
   "metadata": {},
   "outputs": [],
   "source": [
    "url3 = 'https://codeup.com/tips-for-prospective-students/mental-health-first-aid-training/'\n",
    "headers3 = {'User-Agent': 'Codeup Data Science'} # Some websites don't accept the pyhon-requests default user-agent\n",
    "response3 = get(url3, headers=headers3)\n",
    "print(response3.text[:400])"
   ]
  },
  {
   "cell_type": "code",
   "execution_count": null,
   "id": "08b46180",
   "metadata": {},
   "outputs": [],
   "source": [
    "# Make a soup variable holding the response content\n",
    "soup3 = BeautifulSoup(response3.content, 'html.parser')\n",
    "soup3.title.string"
   ]
  },
  {
   "cell_type": "code",
   "execution_count": null,
   "id": "edd2534b",
   "metadata": {},
   "outputs": [],
   "source": [
    "article3 = soup3.find('div', class_ = 'entry-content')\n",
    "article3.text"
   ]
  },
  {
   "cell_type": "markdown",
   "id": "285cd9ea",
   "metadata": {},
   "source": [
    "fourth blog "
   ]
  },
  {
   "cell_type": "code",
   "execution_count": null,
   "id": "c9198583",
   "metadata": {},
   "outputs": [],
   "source": [
    "url4 = 'https://codeup.com/codeup-news/inclusion-at-codeup-during-pride-month-and-always/'\n",
    "headers4 = {'User-Agent': 'Codeup Data Science'} # Some websites don't accept the pyhon-requests default user-agent\n",
    "response4 = get(url4, headers=headers4)\n",
    "print(response4.text[:400])"
   ]
  },
  {
   "cell_type": "code",
   "execution_count": null,
   "id": "60a6d46b",
   "metadata": {},
   "outputs": [],
   "source": [
    "# Make a soup variable holding the response content\n",
    "soup4 = BeautifulSoup(response4.content, 'html.parser')\n",
    "soup4.title.string"
   ]
  },
  {
   "cell_type": "code",
   "execution_count": null,
   "id": "3a7121d7",
   "metadata": {},
   "outputs": [],
   "source": [
    "article4 = soup4.find('div', class_ = 'entry-content')\n",
    "article4.text"
   ]
  },
  {
   "cell_type": "markdown",
   "id": "2da46034",
   "metadata": {},
   "source": [
    "fifth blog "
   ]
  },
  {
   "cell_type": "code",
   "execution_count": null,
   "id": "a50dd864",
   "metadata": {},
   "outputs": [],
   "source": [
    "url5 = 'https://codeup.com/tips-for-prospective-students/is-our-cloud-administration-program-right-for-you/'\n",
    "headers5 = {'User-Agent': 'Codeup Data Science'} # Some websites don't accept the pyhon-requests default user-agent\n",
    "response5 = get(url5, headers=headers5)\n",
    "print(response5.text[:400])"
   ]
  },
  {
   "cell_type": "code",
   "execution_count": null,
   "id": "c6fe63b0",
   "metadata": {},
   "outputs": [],
   "source": [
    "# check html\n",
    "soup5 = BeautifulSoup(response5.content, 'html.parser')\n",
    "soup5.title.string"
   ]
  },
  {
   "cell_type": "code",
   "execution_count": null,
   "id": "48d37e62",
   "metadata": {},
   "outputs": [],
   "source": [
    "article5 = soup5.find('div', class_ = 'entry-content')\n",
    "article5.text"
   ]
  },
  {
   "cell_type": "markdown",
   "id": "984c4968",
   "metadata": {},
   "source": [
    "get blog function"
   ]
  },
  {
   "cell_type": "code",
   "execution_count": 2,
   "id": "d05a608f",
   "metadata": {},
   "outputs": [],
   "source": [
    "blogs = ['https://codeup.com/codeup-news/codeup-dallas-campus/', 'https://codeup.com/data-science/jobs-after-a-coding-bootcamp-part-1-data-science/', 'https://codeup.com/tips-for-prospective-students/mental-health-first-aid-training/', 'https://codeup.com/codeup-news/inclusion-at-codeup-during-pride-month-and-always/',\n",
    "        'https://codeup.com/tips-for-prospective-students/is-our-cloud-administration-program-right-for-you/']"
   ]
  },
  {
   "cell_type": "code",
   "execution_count": 18,
   "id": "32711587",
   "metadata": {},
   "outputs": [],
   "source": [
    "\n",
    "def get_blog_articles(blogs):\n",
    "    #make empty list\n",
    "    data = []\n",
    "    for blog in blogs:\n",
    "        # assign url \n",
    "        url = blog\n",
    "        headers = {'User-Agent': 'Codeup Data Science'} \n",
    "        response = get(url, headers=headers)\n",
    "        soup = BeautifulSoup(response.content, 'html.parser')\n",
    "        article = soup.find('div', id= 'main-content')\n",
    "        # get title\n",
    "        title = article.find('h1', {'class': 'entry-title',})\n",
    "        # get content\n",
    "        content = article.find('div', {'class': 'entry-content'})\n",
    "        # make the dictionary\n",
    "        blog_dict = {'title': title.text, 'content': content.text}\n",
    "        data.append(blog_dict)\n",
    "\n",
    "    return data"
   ]
  },
  {
   "cell_type": "code",
   "execution_count": 19,
   "id": "49dd7fd0",
   "metadata": {
    "scrolled": true
   },
   "outputs": [
    {
     "data": {
      "text/plain": [
       "[{'title': 'Codeup’s New Dallas Campus',\n",
       "  'content': '\\nCodeup’s Dallas campus has a new location! For more than two years, Codeup has been operating out of our original building on Commerce st. in Dallas, but recently Codeup has moved, and tripled our campus space! Our new address is 900 Jackson Street Suite #400 Dallas, Tx 75202\\n\\nCodeup has been a leading coding boot camp in Texas for more than eight years, with active campuses in San Antonio and Dallas offering accelerated programs in Data Science, Cloud Administration, and Full-Stack Web Development.\\nDallas Tech Scene\\nWith Dallas’ tech scene booming, it is imperative that the appropriate talent is available! We help produce top talent at a fast pace to keep up with the demand for tech jobs in the community.\\nCodeup Dallas Offerings\\nCurrently, Codeup offers a 20-week Full-Stack Web Development program at our Dallas location with hopes to add our other programs in the future.\\nDallas Campus Area\\nLocated in the heart of Downtown Dallas, our new location is surrounded by great restaurants, museums, monuments and statues!\\n\\nJohn F. Kennedy Memorial Plaza\\nDealey Plaza\\nCivic Garden\\nAT&T Discovery District\\nMuseum of Illusions\\nDallas Holocaust and Human Rights Museum\\nDallas World Aquarium\\nReunion Tower\\nNOLA Brasserie\\nTwisted Trompo Taco Restaurant\\nFamily Thais Asian Bistro\\nY.O. Ranch Steakhouse\\n\\nCodeup would love to help you jumpstart your career in tech, whether it be at our new Dallas campus, or one of our San Antonio locations, if you’re ready to transition into a career in Web Development, Data Science or Cloud Administration, we would love to help. Visit us here to apply today or give us a call at (210) 802-7289 to discuss your options.\\n'},\n",
       " {'title': 'What Jobs Can You Get After a Coding Bootcamp? Part 1: Data Science',\n",
       "  'content': '\\nIf you are interested in embarking on a career in tech, you’re probably wondering what your new job title could be, and even what your salary might look like.*\\xa0In this mini-series, we will take each of our programs here at Codeup: Data Science, Web Development, and Cloud Administration, and outline respectively potential job titles, as well as entry-level salaries.\\xa0Today we will be diving into our Data Science program, with four potential job titles you could take on!\\nProgram Overview\\xa0\\nDuring this 20-week program, you will have the opportunity to take your career to new heights with data science being one of the most needed jobs in tech. You’ll gather data, then clean it, explore it for trends, and apply machine learning models to make predictions.\\nUpon completing this program, you will know how to turn insights into actionable recommendations. You’ll be a huge asset to any company, having all the technical skills to become a data scientist with projects upon projects of experience under your belt.\\xa0\\n1. Data Scientist\\xa0\\nEssentially, a Data Scientist is responsible for analyzing how a business performs to ensure the business stays competitive and relevant. They review the data for deeper meaning and examine it for patterns in an effort to create solutions to business problems. According to Zip Recruiter, the average entry-level salary for a Data Scientist in Texas is $60,677.\\n2. Data Analyst\\nA Data Analyst finds ways to solve a business’ problems through raw data analysis. They are then responsible for sharing this information with management and stakeholders. According to Indeed, the average entry-level salary for a Data Analyst is $60,332.\\n3. Machine Learning Engineer\\xa0\\nA Machine Learning (ML) Engineer is usually on a Data Science team. They are responsible for artificial intelligence, and its functions as well as making predictions on other machine learning capabilities. They will create ML prototypes and models, then test and retrain where necessary. According to Salary.com, the average entry-level salary for a ML Engineer is $115,795.\\n4. Business Intelligence Analyst\\xa0\\nA Business Intelligence Analyst, also known as a BI Analyst is responsible for understanding computer programming languages. Their primary goal is to give accurate insight to decision-makers regarding the market, productivity, competition, and customer responses. According to Payscale, the average entry-level salary for a BI Analyst is $58,627.\\nWe understand changing careers can be scary. If you chose Codeup, we will make sure you are plenty prepared to not only take on one of these roles but succeed in it.\\xa0\\nThis program gives you more than a textbook and a bank of pre-recorded lectures. You get hands-on instruction from industry experts, along with the power to change your life.\\xa0\\nIf you’re ready, apply today and let’s turn your dreams into reality and get your seat secured in our next Data Science cohort.\\xa0\\n\\xa0\\n*Disclaimer: All information presented in this article is by no means guaranteed by completing a Codeup program. Salaries and duties vary based on factors such as company, location, and experience. These salaries are estimates based on San Antonio, TX data, and these duties are general and may not be exact for every position. \\n\\xa0\\n'},\n",
       " {'title': 'Mental Health First Aid Training',\n",
       "  'content': '\\nAs a student of Codeup, going through a massive career transition can be mentally taxing. Did you know that members of our student-facing staff and human resources team are trained in Mental Health First Aid? Let’s dive into what that means for Codeup!\\xa0\\nMental Health First Aid Training\\xa0\\nSome of our Codeup staff that works directly with our students are trained in Mental Health First Aid. This includes members of our student experience team, career coaches, and the human resources department. This training was courtesy of the Center for Health Care Services in San Antonio. They graciously provided the funding and training for our team in this pilot training program.\\xa0\\nWhat is Mental Health First Aid? According to mentalhhealthfirstaid.org, “is a course that teaches you how to identify, understand, and respond to signs of mental illness and substance use disorders. The training gives you the skills you need to reach out and provide initial help and support to someone who may be developing a mental health or substance use problem or experiencing a crisis”.\\nTo be clear, our staff are not licensed, mental health professionals. What MHFA equips our staff with are tools to gauge risk and connect students and staff with the help they might need. This might include recognizing something in a meeting, picking up on cues during a casual conversation, or acting on a pattern behavior.\\xa0\\nHow does this help our students?\\nMany who go through Codeup’s programs will tell you it is both rewarding and challenging all at the same time. Some students have compared learning at Codeup to\\xa0 “drinking from a firehouse”. You learn so much at once, so fast. This style of learning if you are not used to it can be taxing on anyone’s mental fortitude. This allows our staff who work closely with the students to be able to identify if a student is in need of mental health help.\\xa0\\nConsider Your Career Change Today\\nWhy does this skill set matter? You! We’re here to support your career transition as best we can, and Mental Health First Aid training is just one small piece of that larger support effort. Learn more about how we can support your career transition by applying today.\\xa0\\n\\xa0\\n'},\n",
       " {'title': 'Inclusion at Codeup During Pride Month (and Always)',\n",
       "  'content': '\\nHappy Pride Month! Pride Month is a dedicated time to celebrate and support the LGBTQIA+ community. At Codeup, one of our core values is Cultivating Inclusive Growth, something that takes on many shapes, sizes, forms, and colors. From representation in tech to empowering and supporting all, let’s reflect on how we live out this core value for our LGBTQIA+ community, not just during Pride Month, but always.\\nCultivating Inclusive Growth\\nWe’re firm believers that the people making tech should look like the people using it, which is everyone. We’re proud to offer Pride Scholarships year round, which aim to increase, support, and promote representation of the LGBTQIA+ community in tech. However, representation is only one part of cultivating inclusive growth. We want to help create a thriving tech community where everyone feels represented, but also safe and empowered.\\nIn a 2019 survey conducted by Blind, 83% of LGBQ technologists and 78% of trans or gender non-conforming technologists reported that they felt safe in the workplace. In 2020, those numbers dropped to 76% and 64%, respectively.\\nWhy the drop? Maybe recent pushes for representation in tech weren’t followed up with efforts to truly cultivate inclusivity and growth.\\nCodeup Initiatives\\nTo cultivate inclusive growth, we don’t stop at representation. We also empower and support our community so that no one feels unsafe. Our internal DEI Taskforce empowers our staff with resources and conversations that aim to create a diverse culture of support, safety, and inclusivity for each other and our students.\\nEquipped with this knowledge, our staff can cultivate inclusive growth from the first time they interact with an applicant all the way until they get placed into a new job. They may have even felt empowered just by seeing our students and staff sporting their Pride t-shirts around town.\\xa0\\nNot only do we want the people making tech to look like the people using it, we also want them to feel safe and empowered to do so.\\nIf you’re looking for a career in tech, let us empower you every step of the way! First, apply now. Then, apply for our Pride Scholarship.\\n'},\n",
       " {'title': 'Is Our Cloud Administration Program Right for You?',\n",
       "  'content': '\\nChanging careers can be scary. The first thing you may be asking yourself is, “where do I begin?” If you are looking into a career in tech, but coding or statistics aren’t your thing, our brand new Cloud Administration program might be just for you!\\nWhat Exactly is Cloud Administration?\\nThe future is in the cloud! As the new way of doing business, all kinds of companies need to build or interact with cloud products. These aren’t just high-tech solutions – they’re the core of everyday products like cloud-based gaming from Xbox, collaborative work tools from Google Drive, and even music streaming services from Spotify!\\xa0A Cloud Administrator works with software developers to design, build, maintain, and optimize a cloud architecture to run software applications.\\nWhat Will You Learn?\\nJust like our Data Science and Web Development programs, the Cloud Administration program is considered a career accelerator. Unlike a traditional 4 year degree, you can complete our program in just 15 weeks! You will receive hands-on training in:\\n\\nNetworking fundamentals\\nLinux Operating System\\nWindows Operating System\\nCloud and Computer Security\\nAmazon Web Services (AWS Cloud)\\n\\nYou’ll even earn two industry-recognized certifications as an AWS Cloud Practitioner and AWS Solutions Architect Associate, fully included in your tuition. You’ll learn how each technology works together, and how they are applied to real projects by starting simple, then progressively getting more complex as you add more tools to your toolbox. We’ll teach you to build infrastructure that enables software and data science products, manage cloud deployments, and optimize for cloud performance.\\xa0\\nAs for instruction, we are dedicated to giving you the best. Your instructors are speaking from real industry experience, and are invested in every student’s success. They’re essentially your personal mentors providing on-the-ground support, making themselves accessible to you when you need them.\\xa0\\nYour Success\\nNot only will you be equipped with in-demand cloud skills, but you’ll also get professional development along the way, including help polishing your resume and LinkedIn, as well as access to our employer network. This program, with the support of our career coaches and placement team, can help you become a:\\xa0\\n\\nCloud Administrator\\nCloud Architect\\nCloud Engineer\\nCloud Network Engineer\\nCloud Security Engineer\\xa0\\n\\nYou’re not stuck in one lane when you come to Codeup. With our instructors, coaches, and placement team you can take what you learn and run with it. Cloud technology is improving every single day and this course can ensure you are at the forefront of helping build and maintain that technology.\\xa0\\nCodeup Payment Options\\nFinancing your career transition can be a bit stressful, but we never want it to stop you from changing your career and applying. We have a dedicated Financial Aid and Enrollment team to walk you through every possible option to pay for your tuition here at Codeup. Whether you are using your VA benefits, grants, loans, scholarships, or self-paying, our team will work with you to ensure you receive all forms of financial aid for which you qualify. You can change your career regardless of your financial situation.\\nWant more information on our Cloud Administration program? Check our student reviews, and our blog on 5 Reasons We Think You Should Attend the Cloud Administration program. You can do more than dream of this life-changing career – you can LIVE IT!. Our application process is the first step to beginning your journey in Cloud Administration today!\\xa0\\n'}]"
      ]
     },
     "execution_count": 19,
     "metadata": {},
     "output_type": "execute_result"
    }
   ],
   "source": [
    "get_blog_articles(blogs)"
   ]
  },
  {
   "cell_type": "markdown",
   "id": "e9b0c146",
   "metadata": {},
   "source": [
    "Inshorts"
   ]
  },
  {
   "cell_type": "code",
   "execution_count": 20,
   "id": "76c58784",
   "metadata": {},
   "outputs": [],
   "source": [
    "news = ['https://inshorts.com/en/read/entertainment', 'https://inshorts.com/en/read/business', 'https://inshorts.com/en/read/sports',\n",
    "       'https://inshorts.com/en/read/technology']"
   ]
  },
  {
   "cell_type": "code",
   "execution_count": 29,
   "id": "58890c35",
   "metadata": {},
   "outputs": [],
   "source": [
    "def get_news_articles():\n",
    "    # define categories \n",
    "    base_url = 'https://inshorts.com/en/read/'\n",
    "    categories = [\n",
    "        'business',\n",
    "        'sports',\n",
    "        'technology',\n",
    "        'entertainment',\n",
    "        ]\n",
    "    data = []\n",
    "    for category in categories:\n",
    "        # make url \n",
    "        soup = get_soup(base_url+category)\n",
    "        cards = soup.find_all(class_='news-card' )\n",
    "        for card in cards:\n",
    "            # make dictionary\n",
    "            article_dict = {\n",
    "                'title': card.find(itemprop='headline').string,\n",
    "                'author': card.find(class_='author').string,\n",
    "                'published': card.find(class_='time')['content'],\n",
    "                'category': category,\n",
    "                'content': card.find(itemprop='articleBody').text\n",
    "            }\n",
    "            # put dictionary into a list\n",
    "            data.append(article_dict)\n",
    "    # make into df\n",
    "    df = pd.DataFrame(data)\n",
    "\n",
    "    return df"
   ]
  },
  {
   "cell_type": "code",
   "execution_count": 32,
   "id": "5671eabc",
   "metadata": {},
   "outputs": [
    {
     "data": {
      "text/html": [
       "<div>\n",
       "<style scoped>\n",
       "    .dataframe tbody tr th:only-of-type {\n",
       "        vertical-align: middle;\n",
       "    }\n",
       "\n",
       "    .dataframe tbody tr th {\n",
       "        vertical-align: top;\n",
       "    }\n",
       "\n",
       "    .dataframe thead th {\n",
       "        text-align: right;\n",
       "    }\n",
       "</style>\n",
       "<table border=\"1\" class=\"dataframe\">\n",
       "  <thead>\n",
       "    <tr style=\"text-align: right;\">\n",
       "      <th></th>\n",
       "      <th>title</th>\n",
       "      <th>author</th>\n",
       "      <th>published</th>\n",
       "      <th>category</th>\n",
       "      <th>content</th>\n",
       "    </tr>\n",
       "  </thead>\n",
       "  <tbody>\n",
       "    <tr>\n",
       "      <th>0</th>\n",
       "      <td>India's GDP grows at 13.5% in first quarter of...</td>\n",
       "      <td>Anmol Sharma</td>\n",
       "      <td>2022-08-31T12:24:39.000Z</td>\n",
       "      <td>business</td>\n",
       "      <td>India's GDP grew at 13.5% in the first quarter...</td>\n",
       "    </tr>\n",
       "    <tr>\n",
       "      <th>1</th>\n",
       "      <td>Musk seeks to delay Twitter trial to Nov amid ...</td>\n",
       "      <td>Ridham Gambhir</td>\n",
       "      <td>2022-08-31T03:16:29.000Z</td>\n",
       "      <td>business</td>\n",
       "      <td>Tesla CEO Elon Musk is seeking to delay the tr...</td>\n",
       "    </tr>\n",
       "    <tr>\n",
       "      <th>2</th>\n",
       "      <td>Snap to lay off 20% of staff, cancel several p...</td>\n",
       "      <td>Ananya Goyal</td>\n",
       "      <td>2022-08-31T14:48:01.000Z</td>\n",
       "      <td>business</td>\n",
       "      <td>Snap said on Wednesday it will lay off 20% of ...</td>\n",
       "    </tr>\n",
       "    <tr>\n",
       "      <th>3</th>\n",
       "      <td>2 top executives at Snap quit hours after repo...</td>\n",
       "      <td>Ridham Gambhir</td>\n",
       "      <td>2022-08-31T04:11:41.000Z</td>\n",
       "      <td>business</td>\n",
       "      <td>Two senior advertising executives at Snap quit...</td>\n",
       "    </tr>\n",
       "    <tr>\n",
       "      <th>4</th>\n",
       "      <td>Viral video shows Amazon parcels thrown out of...</td>\n",
       "      <td>Apaar Sharma</td>\n",
       "      <td>2022-08-31T08:21:25.000Z</td>\n",
       "      <td>business</td>\n",
       "      <td>A video from Guwahati railway station has gone...</td>\n",
       "    </tr>\n",
       "    <tr>\n",
       "      <th>...</th>\n",
       "      <td>...</td>\n",
       "      <td>...</td>\n",
       "      <td>...</td>\n",
       "      <td>...</td>\n",
       "      <td>...</td>\n",
       "    </tr>\n",
       "    <tr>\n",
       "      <th>95</th>\n",
       "      <td>There are no single men: Kriti on not having a...</td>\n",
       "      <td>Amartya Sharma</td>\n",
       "      <td>2022-08-31T06:22:55.000Z</td>\n",
       "      <td>entertainment</td>\n",
       "      <td>Actress Kriti Sanon, during her red carpet app...</td>\n",
       "    </tr>\n",
       "    <tr>\n",
       "      <th>96</th>\n",
       "      <td>Response to 'Delhi Crime 2' is enormous: Actre...</td>\n",
       "      <td>Amartya Sharma</td>\n",
       "      <td>2022-08-31T09:12:18.000Z</td>\n",
       "      <td>entertainment</td>\n",
       "      <td>Actress Shefali Shah, speaking about the recen...</td>\n",
       "    </tr>\n",
       "    <tr>\n",
       "      <th>97</th>\n",
       "      <td>Dharmendra had tears after knowing I was turne...</td>\n",
       "      <td>Arnab Mukherji</td>\n",
       "      <td>2022-08-31T10:49:06.000Z</td>\n",
       "      <td>entertainment</td>\n",
       "      <td>Punjabi actor-singer Gippy Grewal said Dharmen...</td>\n",
       "    </tr>\n",
       "    <tr>\n",
       "      <th>98</th>\n",
       "      <td>Tiger Shroff asked to slash his fees post 'Her...</td>\n",
       "      <td>Kameshwari</td>\n",
       "      <td>2022-08-31T12:29:06.000Z</td>\n",
       "      <td>entertainment</td>\n",
       "      <td>Tiger Shroff reportedly signed 'Ganapath', 'Ba...</td>\n",
       "    </tr>\n",
       "    <tr>\n",
       "      <th>99</th>\n",
       "      <td>Mike Tyson was paid around ₹25 crore for 'Lige...</td>\n",
       "      <td>Kameshwari</td>\n",
       "      <td>2022-08-31T15:01:27.000Z</td>\n",
       "      <td>entertainment</td>\n",
       "      <td>Boxing legend Mike Tyson was reportedly paid a...</td>\n",
       "    </tr>\n",
       "  </tbody>\n",
       "</table>\n",
       "<p>100 rows × 5 columns</p>\n",
       "</div>"
      ],
      "text/plain": [
       "                                                title           author  \\\n",
       "0   India's GDP grows at 13.5% in first quarter of...     Anmol Sharma   \n",
       "1   Musk seeks to delay Twitter trial to Nov amid ...   Ridham Gambhir   \n",
       "2   Snap to lay off 20% of staff, cancel several p...     Ananya Goyal   \n",
       "3   2 top executives at Snap quit hours after repo...   Ridham Gambhir   \n",
       "4   Viral video shows Amazon parcels thrown out of...     Apaar Sharma   \n",
       "..                                                ...              ...   \n",
       "95  There are no single men: Kriti on not having a...   Amartya Sharma   \n",
       "96  Response to 'Delhi Crime 2' is enormous: Actre...   Amartya Sharma   \n",
       "97  Dharmendra had tears after knowing I was turne...  Arnab Mukherji    \n",
       "98  Tiger Shroff asked to slash his fees post 'Her...       Kameshwari   \n",
       "99  Mike Tyson was paid around ₹25 crore for 'Lige...       Kameshwari   \n",
       "\n",
       "                   published       category  \\\n",
       "0   2022-08-31T12:24:39.000Z       business   \n",
       "1   2022-08-31T03:16:29.000Z       business   \n",
       "2   2022-08-31T14:48:01.000Z       business   \n",
       "3   2022-08-31T04:11:41.000Z       business   \n",
       "4   2022-08-31T08:21:25.000Z       business   \n",
       "..                       ...            ...   \n",
       "95  2022-08-31T06:22:55.000Z  entertainment   \n",
       "96  2022-08-31T09:12:18.000Z  entertainment   \n",
       "97  2022-08-31T10:49:06.000Z  entertainment   \n",
       "98  2022-08-31T12:29:06.000Z  entertainment   \n",
       "99  2022-08-31T15:01:27.000Z  entertainment   \n",
       "\n",
       "                                              content  \n",
       "0   India's GDP grew at 13.5% in the first quarter...  \n",
       "1   Tesla CEO Elon Musk is seeking to delay the tr...  \n",
       "2   Snap said on Wednesday it will lay off 20% of ...  \n",
       "3   Two senior advertising executives at Snap quit...  \n",
       "4   A video from Guwahati railway station has gone...  \n",
       "..                                                ...  \n",
       "95  Actress Kriti Sanon, during her red carpet app...  \n",
       "96  Actress Shefali Shah, speaking about the recen...  \n",
       "97  Punjabi actor-singer Gippy Grewal said Dharmen...  \n",
       "98  Tiger Shroff reportedly signed 'Ganapath', 'Ba...  \n",
       "99  Boxing legend Mike Tyson was reportedly paid a...  \n",
       "\n",
       "[100 rows x 5 columns]"
      ]
     },
     "execution_count": 32,
     "metadata": {},
     "output_type": "execute_result"
    }
   ],
   "source": [
    "get_news_articles()"
   ]
  },
  {
   "cell_type": "code",
   "execution_count": null,
   "id": "033db068",
   "metadata": {},
   "outputs": [],
   "source": []
  }
 ],
 "metadata": {
  "kernelspec": {
   "display_name": "Python 3 (ipykernel)",
   "language": "python",
   "name": "python3"
  },
  "language_info": {
   "codemirror_mode": {
    "name": "ipython",
    "version": 3
   },
   "file_extension": ".py",
   "mimetype": "text/x-python",
   "name": "python",
   "nbconvert_exporter": "python",
   "pygments_lexer": "ipython3",
   "version": "3.9.12"
  }
 },
 "nbformat": 4,
 "nbformat_minor": 5
}
